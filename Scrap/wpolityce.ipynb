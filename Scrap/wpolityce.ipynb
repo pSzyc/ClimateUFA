{
 "cells": [
  {
   "cell_type": "code",
   "execution_count": null,
   "metadata": {},
   "outputs": [],
   "source": [
    "from pathlib import Path\n",
    "import requests\n",
    "from selenium.webdriver.chrome.options import Options\n",
    "from selenium import webdriver\n",
    "import time\n",
    "import pandas as pd\n",
    "import urllib\n",
    "import re\n",
    "import os\n",
    "import re\n",
    "from selenium.webdriver.common.by import By"
   ]
  },
  {
   "cell_type": "code",
   "execution_count": null,
   "metadata": {},
   "outputs": [],
   "source": [
    "chrome_options = Options()\n",
    "chrome_options.add_argument(\"user-data-dir=selenium\")\n",
    "driver = webdriver.Chrome(options=chrome_options)"
   ]
  },
  {
   "cell_type": "code",
   "execution_count": null,
   "metadata": {},
   "outputs": [],
   "source": [
    "def save_pdfs(pdfs, year):\n",
    "    pdfs.reverse()\n",
    "    for i, url in enumerate(pdfs):\n",
    "        output_file = \"DoRzeczy\"+str(year)\n",
    "        Path(output_file).mkdir(parents=True, exist_ok=True)\n",
    "        filename = Path(f'{output_file}/dorzeczy_{i+1}_{year}.pdf')\n",
    "        response = requests.get(url)\n",
    "        filename.write_bytes(response.content)\n",
    "\n",
    "def get_url_pdf():\n",
    "    buttons = driver.find_elements(By.CLASS_NAME, \"download-edition-button\")\n",
    "    for button in buttons:\n",
    "        button.click()\n",
    "        time.sleep(0.5)\n"
   ]
  },
  {
   "cell_type": "code",
   "execution_count": null,
   "metadata": {},
   "outputs": [],
   "source": [
    "link =\"https://siec.wpolityce.pl/\"\n",
    "driver.get(link)"
   ]
  },
  {
   "cell_type": "code",
   "execution_count": null,
   "metadata": {},
   "outputs": [],
   "source": [
    "get_url_pdf()"
   ]
  },
  {
   "cell_type": "code",
   "execution_count": null,
   "metadata": {},
   "outputs": [],
   "source": [
    "path = \"/home/hombre/Downloads\"\n",
    "numbers = []\n",
    "for root, dirs, files in os.walk(path):\n",
    "    for file in files:\n",
    "        try:\n",
    "            numbers.append(int(re.search(r\"_(\\d+)_2015\", file).group(1)))\n",
    "        except:\n",
    "            pass\n",
    "for i in range(54):\n",
    "    if i not in numbers:\n",
    "        print(i)"
   ]
  },
  {
   "cell_type": "code",
   "execution_count": null,
   "metadata": {},
   "outputs": [],
   "source": [
    "driver.switch_to.window(driver.window_handles[-1])"
   ]
  },
  {
   "cell_type": "code",
   "execution_count": null,
   "metadata": {},
   "outputs": [],
   "source": [
    "links =[]\n",
    "begin = 411\n",
    "end = 508\n",
    "for i in range(end - begin):\n",
    "        links.append(f\"https://tygodnik.dorzeczy.pl/archiwum/{begin + i}/dorzeczy-{i+1}-{2022}.html\")\n",
    "\n",
    "print(links)\n",
    "for link in links: pass #get_url_mobi(link)\n"
   ]
  }
 ],
 "metadata": {
  "kernelspec": {
   "display_name": "Python 3",
   "language": "python",
   "name": "python3"
  },
  "language_info": {
   "codemirror_mode": {
    "name": "ipython",
    "version": 3
   },
   "file_extension": ".py",
   "mimetype": "text/x-python",
   "name": "python",
   "nbconvert_exporter": "python",
   "pygments_lexer": "ipython3",
   "version": "3.11.6"
  },
  "orig_nbformat": 4
 },
 "nbformat": 4,
 "nbformat_minor": 2
}
