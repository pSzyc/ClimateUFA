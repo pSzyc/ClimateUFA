{
 "cells": [
  {
   "cell_type": "markdown",
   "metadata": {},
   "source": [
    "# Tsne plots"
   ]
  },
  {
   "cell_type": "code",
   "execution_count": null,
   "metadata": {},
   "outputs": [],
   "source": [
    "import pandas as pd\n",
    "import matplotlib.pyplot as plt\n",
    "from matplotlib.colors import Normalize\n",
    "\n",
    "norm = Normalize()\n",
    "cmap = plt.cm.brg\n",
    "\n",
    "plt.style.use('ggplot')\n",
    "df_tsne = pd.read_csv(\"../Tsne/tsne.csv\")\n",
    "plt.figure(figsize=(16,10))\n",
    "c = df_tsne['class']\n",
    "x = df_tsne['x']\n",
    "y = df_tsne['y']\n",
    "\n",
    "\"t-SNE results on input data for the classification layer of neural network\"\n",
    "plt.title(\"t-SNE results on input data of the classification layer of neural network\", fontsize=20)\n",
    "sc = plt.scatter(x, y, c=c, norm=norm, cmap=cmap, s=15, alpha=0.5)\n",
    "legend = [sc.legend_elements()[0], ['Other Articles', 'Articles about Climate Change']]\n",
    "plt.legend(*legend, fontsize=15)\n",
    "plt.xlabel(\"t-SNE dimension x\")\n",
    "plt.ylabel(\"t-SNE dimension y\")\n",
    "plt.savefig(\"plots/tsne.svg\", dpi=600)"
   ]
  },
  {
   "cell_type": "code",
   "execution_count": null,
   "metadata": {},
   "outputs": [],
   "source": [
    "import subprocess\n",
    "import os\n",
    "\n",
    "def convert_all_svg_to_pdf(directory):\n",
    "    for filename in os.listdir(directory):\n",
    "        if filename.endswith(\".svg\"):\n",
    "            svg_filepath = os.path.join(directory, filename)\n",
    "            pdf_filepath = os.path.join(directory, f\"{os.path.splitext(filename)[0]}.pdf\")\n",
    "            subprocess.run(['inkscape', '-o', pdf_filepath, svg_filepath])\n",
    "\n",
    "convert_all_svg_to_pdf('plots')\n",
    "\n",
    "subprocess.run(\"tar -czf plots.tar.gz plots\", shell=True)"
   ]
  },
  {
   "cell_type": "code",
   "execution_count": null,
   "metadata": {},
   "outputs": [],
   "source": []
  }
 ],
 "metadata": {
  "kernelspec": {
   "display_name": "Python 3",
   "language": "python",
   "name": "python3"
  },
  "language_info": {
   "codemirror_mode": {
    "name": "ipython",
    "version": 3
   },
   "file_extension": ".py",
   "mimetype": "text/x-python",
   "name": "python",
   "nbconvert_exporter": "python",
   "pygments_lexer": "ipython3",
   "version": "3.12.4"
  }
 },
 "nbformat": 4,
 "nbformat_minor": 2
}
