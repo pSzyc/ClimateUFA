{
 "cells": [
  {
   "cell_type": "code",
   "execution_count": null,
   "metadata": {},
   "outputs": [],
   "source": [
    "from selenium.webdriver.chrome.options import Options\n",
    "from selenium import webdriver\n",
    "import time\n",
    "from bs4 import BeautifulSoup\n",
    "import pandas as pd\n",
    "import urllib\n",
    "import re\n",
    "import re"
   ]
  },
  {
   "cell_type": "code",
   "execution_count": null,
   "metadata": {},
   "outputs": [],
   "source": [
    "def get_driver():\n",
    "    chrome_options = Options()\n",
    "    chrome_options.add_experimental_option('prefs', {\n",
    "    \"download.default_directory\": f\"/home/ps/Code/Climate/Scrap/gpc/\", #Change default directory for downloads\n",
    "    \"download.prompt_for_download\": False, #To auto download the file\n",
    "    \"download.directory_upgrade\": True,\n",
    "    \"plugins.always_open_pdf_externally\": True #It will not show PDF directly in chrome\n",
    "    })\n",
    "    chrome_options.add_argument(\"user-data-dir=selenium\")\n",
    "    driver = webdriver.Chrome(options=chrome_options)\n",
    "    return driver\n",
    "\n",
    "driver = get_driver()"
   ]
  },
  {
   "cell_type": "code",
   "execution_count": null,
   "metadata": {},
   "outputs": [],
   "source": [
    "from selenium.webdriver.common.by import By\n",
    "import shutil\n",
    "import glob\n",
    "import shutil\n",
    "import os\n",
    "\n",
    "source_path = \"/home/ps/Code/Climate/Scrap/gpc\"\n",
    "\n",
    "def get_links(links):\n",
    "    for link in links:\n",
    "\n",
    "        driver.get(\"https://gpcodziennie.pl\" + link)\n",
    "        time.sleep(0.5)\n",
    "        driver.find_element(By.CLASS_NAME, \"btn\").click()\n",
    "        time.sleep(0.5)\n",
    "\n",
    "        h1_element = driver.find_element(By.CSS_SELECTOR, 'h1.t')\n",
    "        h1_text = h1_element.text\n",
    "        year = h1_text.split(\".\")[-1].strip()\n",
    "\n",
    "        destination_path = f\"/home/ps/Code/Climate/Scrap/gpc/{year}/\"\n",
    "        os.makedirs(destination_path, exist_ok=True)\n",
    "\n",
    "        pdf_files = glob.glob(f\"{source_path}/*.pdf\")\n",
    "        for file in pdf_files:\n",
    "            try:\n",
    "                shutil.move(file, destination_path)\n",
    "            except:\n",
    "                os.remove(file)\n",
    "                print(f\"File {file} already exists in {destination_path}\")"
   ]
  },
  {
   "cell_type": "code",
   "execution_count": null,
   "metadata": {},
   "outputs": [],
   "source": [
    "page = 236\n",
    "while True:\n",
    "    try:\n",
    "        driver.get(f\"https://gpcodziennie.pl/archiwum/okladki?page={page}\")\n",
    "    except:\n",
    "        break\n",
    "    soup = BeautifulSoup(driver.page_source, \"html.parser\")\n",
    "    links = soup.find_all(\"a\", class_ = '')  \n",
    "    links = [link.get('href') for link in links if \"numer-\" in link.get('href')]\n",
    "    links = list(set(links))\n",
    "    get_links(links)\n",
    "    print(page)\n",
    "    page += 1\n"
   ]
  }
 ],
 "metadata": {
  "kernelspec": {
   "display_name": "Python 3",
   "language": "python",
   "name": "python3"
  },
  "language_info": {
   "codemirror_mode": {
    "name": "ipython",
    "version": 3
   },
   "file_extension": ".py",
   "mimetype": "text/x-python",
   "name": "python",
   "nbconvert_exporter": "python",
   "pygments_lexer": "ipython3",
   "version": "3.11.6"
  },
  "orig_nbformat": 4
 },
 "nbformat": 4,
 "nbformat_minor": 2
}
