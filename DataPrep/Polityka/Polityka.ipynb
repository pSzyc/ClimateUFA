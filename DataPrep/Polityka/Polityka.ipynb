{
 "cells": [
  {
   "cell_type": "code",
   "execution_count": null,
   "metadata": {},
   "outputs": [],
   "source": [
    "import pandas as pd\n",
    "import regex as re"
   ]
  },
  {
   "cell_type": "markdown",
   "metadata": {},
   "source": [
    "# Prepare raw data"
   ]
  },
  {
   "cell_type": "code",
   "execution_count": null,
   "metadata": {},
   "outputs": [],
   "source": [
    "df_char = pd.read_csv(\"characters.csv\")"
   ]
  },
  {
   "cell_type": "code",
   "execution_count": null,
   "metadata": {},
   "outputs": [],
   "source": [
    "with open(\"Polityka 2015-2022.csv\", \"r\",encoding='latin-1') as f:\n",
    "    text = f.read()\n",
    "    for index, row  in df_char.iterrows():\n",
    "        text = text.replace(row['text'], row['correct'])\n",
    "    text = text.replace(\"\\xa0\", \" \")\n",
    "    text = text.replace(\"\\x84\", \"\")\n",
    "    text = text.replace(\"\\x94\", \"\")\n",
    "\n",
    "splits = (re.split(r\"\\n([0-9]{1,5});\", text))\n",
    "len(splits) // 2"
   ]
  },
  {
   "cell_type": "code",
   "execution_count": null,
   "metadata": {},
   "outputs": [],
   "source": [
    "columns = splits[0]\n",
    "articles = []\n",
    "for i in range(1, len(splits), 2):\n",
    "    articles.append(splits[i] + \";\" + splits[i+1].replace(\"\\n\", \" \"))\n",
    "articles[:10]"
   ]
  },
  {
   "cell_type": "code",
   "execution_count": null,
   "metadata": {},
   "outputs": [],
   "source": [
    "with open(\"result.csv\", \"w\") as f:\n",
    "    f.write(columns + \"\\n\")\n",
    "    f.write(\"\\n\".join(articles[:-2]))"
   ]
  },
  {
   "cell_type": "markdown",
   "metadata": {},
   "source": [
    "# Read the data"
   ]
  },
  {
   "cell_type": "code",
   "execution_count": null,
   "metadata": {},
   "outputs": [],
   "source": [
    "df = pd.read_csv(\"result.csv\", sep=';', on_bad_lines='skip')\n",
    "df.drop(columns=[f\"tag_{i}\" for i in range(1, 10)], inplace=True)"
   ]
  },
  {
   "cell_type": "code",
   "execution_count": null,
   "metadata": {},
   "outputs": [],
   "source": [
    "def chunkit(df, size = 5000):\n",
    "    len_df = len(df)\n",
    "    n = len_df//size\n",
    "    if len_df % size!= 0: n += 1\n",
    "    for i in range(n):\n",
    "        yield df.iloc[i*size:(i+1)*size]"
   ]
  },
  {
   "cell_type": "code",
   "execution_count": null,
   "metadata": {},
   "outputs": [],
   "source": [
    "for i, data in enumerate(chunkit(df)):\n",
    "    data.to_csv(f\"polityka_{i}.csv\")"
   ]
  }
 ],
 "metadata": {
  "kernelspec": {
   "display_name": "Python 3",
   "language": "python",
   "name": "python3"
  },
  "language_info": {
   "codemirror_mode": {
    "name": "ipython",
    "version": 3
   },
   "file_extension": ".py",
   "mimetype": "text/x-python",
   "name": "python",
   "nbconvert_exporter": "python",
   "pygments_lexer": "ipython3",
   "version": "3.11.4"
  },
  "orig_nbformat": 4
 },
 "nbformat": 4,
 "nbformat_minor": 2
}
