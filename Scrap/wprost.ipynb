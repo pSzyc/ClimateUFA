{
 "cells": [
  {
   "cell_type": "code",
   "execution_count": null,
   "metadata": {},
   "outputs": [],
   "source": [
    "from pathlib import Path\n",
    "import requests\n",
    "from selenium.webdriver.chrome.options import Options\n",
    "from selenium import webdriver\n",
    "import time\n",
    "from bs4 import BeautifulSoup\n",
    "import pandas as pd\n",
    "import urllib\n",
    "import re\n",
    "import os\n",
    "import re"
   ]
  },
  {
   "cell_type": "code",
   "execution_count": null,
   "metadata": {},
   "outputs": [],
   "source": [
    "def get_driver(year):\n",
    "    chrome_options = Options()\n",
    "    chrome_options.add_experimental_option('prefs', {\n",
    "    \"download.default_directory\": f\"/home/ps/Code/Climate/Scrap/Wprost/{year}\", #Change default directory for downloads\n",
    "    \"download.prompt_for_download\": False, #To auto download the file\n",
    "    \"download.directory_upgrade\": True,\n",
    "    \"plugins.always_open_pdf_externally\": True #It will not show PDF directly in chrome\n",
    "    })\n",
    "    chrome_options.add_argument(\"user-data-dir=selenium\")\n",
    "    driver = webdriver.Chrome(options=chrome_options)\n",
    "    return driver"
   ]
  },
  {
   "cell_type": "code",
   "execution_count": null,
   "metadata": {},
   "outputs": [],
   "source": [
    "import os\n",
    "for year in range(2015, 2016):\n",
    "    driver = get_driver(year)\n",
    "    os.mkdir(f\"Wprost/{year}\")\n",
    "    driver.get(f\"https://www.wprost.pl/tygodnik/archiwum/rok/{year}\")\n",
    "    soup = BeautifulSoup(driver.page_source, \"html.parser\")\n",
    "    disabled_select_links = soup.find_all(\"a\", class_=\"disabled-select\")  \n",
    "    for link in disabled_select_links:\n",
    "        print(\"https://www.wprost.pl\" + link['href'])\n",
    "        driver.get(\"https://www.wprost.pl/\" + link['href'])\n",
    "        time.sleep(0.5)\n",
    "        button = driver.find_element('link text',\"pdf\")\n",
    "        button.click()\n",
    "        time.sleep(0.5)\n",
    "    driver.quit()"
   ]
  }
 ],
 "metadata": {
  "kernelspec": {
   "display_name": "Python 3",
   "language": "python",
   "name": "python3"
  },
  "language_info": {
   "codemirror_mode": {
    "name": "ipython",
    "version": 3
   },
   "file_extension": ".py",
   "mimetype": "text/x-python",
   "name": "python",
   "nbconvert_exporter": "python",
   "pygments_lexer": "ipython3",
   "version": "3.11.6"
  },
  "orig_nbformat": 4
 },
 "nbformat": 4,
 "nbformat_minor": 2
}
