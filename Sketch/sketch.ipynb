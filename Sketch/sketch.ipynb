{
 "cells": [
  {
   "cell_type": "code",
   "execution_count": 50,
   "metadata": {},
   "outputs": [],
   "source": [
    "from pathlib import Path\n",
    "import pandas as pd\n",
    "import os\n",
    "import re"
   ]
  },
  {
   "cell_type": "markdown",
   "metadata": {},
   "source": [
    "# Main function definition"
   ]
  },
  {
   "cell_type": "code",
   "execution_count": 51,
   "metadata": {},
   "outputs": [],
   "source": [
    "def to_sketch_format(df):\n",
    "    for col in df.columns:\n",
    "        if df[col].dtype == 'object':\n",
    "            df[col] = df[col].str.replace(r'\\s+', ' ', regex=True)\n",
    "            df[col] = df[col].str.replace(r'\"', '', regex=False)\n",
    "            df[col] = df[col].str.replace(r\"'\", '', regex=False)\n",
    "            df[col] = df[col].str.replace(r'<', '', regex=False)\n",
    "            df[col] = df[col].str.replace(r'>', '', regex=False)\n",
    "            df[col] = df[col].str.replace(r'\\\\', '', regex=False)\n",
    "        df[col] = df[col].astype(str)\n",
    "    sketch_start = \"<doc text_id=\\\"\" + df['id'] + \"\\\" \"\n",
    "    sketch_end = \"\\\" </doc>\"\n",
    "    meta_data = \"\"\n",
    "    for col in df.columns:\n",
    "        if col not in ['id', 'text']:\n",
    "            meta_data += \" \" + col + \"=\\\"\" + df[col] + \"\\\"\"\n",
    "    return sketch_start + meta_data + \" > \\\"\" + df[\"text\"] + sketch_end\n",
    "\n",
    "def post_process(data, file):\n",
    "    data['sketch'].to_csv(file, index=False, header=False)\n",
    "    with open(file, \"r\") as f:\n",
    "        text = f.read()\n",
    "        text = re.sub(r'\\\"+', \"\\\"\", text)\n",
    "\n",
    "\n",
    "    with open(file, \"w\") as f:\n",
    "        f.write(text)"
   ]
  },
  {
   "cell_type": "code",
   "execution_count": 52,
   "metadata": {},
   "outputs": [],
   "source": [
    "df = pd.DataFrame({\n",
    "    'id': [1, 2],\n",
    "    'source': [\"example_source 1\", \"example_source 2\"],\n",
    "    'department': ['dep', None],\n",
    "    'date': [\"2023-10-01\", \"2024-10-01\"],\n",
    "    'title': [\"example title 1\", \"example title 2\"],\n",
    "    'text': [\"example text 1\", \"example text 2\"]\n",
    "    \n",
    "},\n",
    ")\n",
    "\n",
    "df['sketch'] = to_sketch_format(df)\n",
    "file = \"data.txt\"\n",
    "post_process(df, file)"
   ]
  },
  {
   "cell_type": "markdown",
   "metadata": {},
   "source": [
    "# Korpus to sketch format"
   ]
  },
  {
   "cell_type": "code",
   "execution_count": 53,
   "metadata": {},
   "outputs": [],
   "source": [
    "\n",
    "drive_path = Path(\"../Korpus\")\n",
    "data = []\n",
    "report_file = drive_path / \"report.txt\"\n",
    "total_rows = 0  # Initialize total row counter\n",
    "with open(report_file, \"w\") as report:\n",
    "    for file in os.listdir(drive_path):\n",
    "        if file.endswith(\".csv\"):\n",
    "            report.write(f\"---- {file} -----\\n\")\n",
    "            df = pd.read_csv(drive_path / file)\n",
    "            if 'department' not in df.columns:\n",
    "                df['department'] = 'Not specified'\n",
    "            df = df[['id', 'source', 'title', 'author', 'text', 'date', 'department', \"eco_id\"]]\n",
    "\n",
    "            report.write(f\"Found: {len(df)}\\n\")\n",
    "            total_rows += len(df)  # Add the number of rows in the current file to the total\n",
    "            present_percentage = (1 - df.isnull().mean()) * 100\n",
    "            report.write(f\"Present percentage for {file}:\\n\")\n",
    "            for col, pct in present_percentage.items():\n",
    "                report.write(f\"{col:15}: {pct:6.2f}%\\n\")\n",
    "            data.append(df)\n",
    "    report.write(f\"\\nTotal docs across all files: {total_rows}\\n\")  # Write the total to the report\n"
   ]
  },
  {
   "cell_type": "code",
   "execution_count": 54,
   "metadata": {},
   "outputs": [
    {
     "name": "stdout",
     "output_type": "stream",
     "text": [
      "Total corpus size: 19986\n"
     ]
    }
   ],
   "source": [
    "import re\n",
    "\n",
    "def process_dfs(dfs):\n",
    "    corpus = 0\n",
    "\n",
    "    for df in dfs:\n",
    "        # Convert to sketch format\n",
    "        df['sketch'] = to_sketch_format(df)\n",
    "        # Save to file\n",
    "        file = \"sketch_\" + df['source'][0] + \".txt\"\n",
    "        corpus += len(df)\n",
    "        post_process(df, file)\n",
    "    return corpus\n",
    "\n",
    "total_corpus = process_dfs(data)\n",
    "print(\"Total corpus size:\", total_corpus)"
   ]
  },
  {
   "cell_type": "code",
   "execution_count": 55,
   "metadata": {},
   "outputs": [
    {
     "name": "stdout",
     "output_type": "stream",
     "text": [
      "a sketch_DoRzeczy.txt\n",
      "a sketch_Gazeta Polska Codziennie.txt\n",
      "a sketch_Newsweek.txt\n",
      "a sketch_POLITYKA.txt\n",
      "a sketch_Rzeczpospolita.txt\n",
      "a sketch_WPROST.txt\n",
      "a sketch_Wyborcza.txt\n",
      "a sketch_wPolityce.txt\n"
     ]
    }
   ],
   "source": [
    "!tar -czvf sketch.tar.gz sketch*.txt"
   ]
  },
  {
   "cell_type": "code",
   "execution_count": 56,
   "metadata": {},
   "outputs": [],
   "source": [
    "! rm sketch*.txt"
   ]
  },
  {
   "cell_type": "markdown",
   "metadata": {},
   "source": [
    "# Global and zmiana klimat to sketch format"
   ]
  },
  {
   "cell_type": "code",
   "execution_count": 57,
   "metadata": {},
   "outputs": [
    {
     "name": "stdout",
     "output_type": "stream",
     "text": [
      "global ociepl_articles.csv       zmian klimat_articles.csv\n",
      "global ociepl_s_60_w_158.csv     zmian klimat_plot_s_78_w_205.csv\n"
     ]
    }
   ],
   "source": [
    "!ls ../UFA/files/results/"
   ]
  },
  {
   "cell_type": "code",
   "execution_count": null,
   "metadata": {},
   "outputs": [
    {
     "name": "stdout",
     "output_type": "stream",
     "text": [
      "Index(['text', 'id', 'date', 'source', 'collocations', 'eco_id'], dtype='object') Index(['text', 'id', 'date', 'source', 'collocations', 'eco_id'], dtype='object')\n"
     ]
    }
   ],
   "source": [
    "df_zk = pd.read_csv(\"../UFA/files/results/zmian klimat_articles.csv\")\n",
    "df_gc = pd.read_csv(\"../UFA/files/results/global ociepl_articles.csv\")\n",
    "for df in [df_zk, df_gc]:\n",
    "    df['eco_id'] = df['eco_id'].astype('Int32')"
   ]
  },
  {
   "cell_type": "code",
   "execution_count": 65,
   "metadata": {},
   "outputs": [],
   "source": [
    "df_zk['sketch'] = to_sketch_format(df_zk)\n",
    "df_gc['sketch'] = to_sketch_format(df_gc)"
   ]
  },
  {
   "cell_type": "code",
   "execution_count": 66,
   "metadata": {},
   "outputs": [],
   "source": [
    "post_process(df_gc, \"global_ocieplenie_sketch.txt\")\n",
    "post_process(df_zk, \"zmiana_klimat_sketch.txt\")"
   ]
  },
  {
   "cell_type": "code",
   "execution_count": null,
   "metadata": {},
   "outputs": [],
   "source": []
  }
 ],
 "metadata": {
  "kernelspec": {
   "display_name": ".venv",
   "language": "python",
   "name": "python3"
  },
  "language_info": {
   "codemirror_mode": {
    "name": "ipython",
    "version": 3
   },
   "file_extension": ".py",
   "mimetype": "text/x-python",
   "name": "python",
   "nbconvert_exporter": "python",
   "pygments_lexer": "ipython3",
   "version": "3.11.11"
  }
 },
 "nbformat": 4,
 "nbformat_minor": 2
}
