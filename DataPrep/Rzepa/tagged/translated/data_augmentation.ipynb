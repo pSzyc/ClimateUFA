{
 "cells": [
  {
   "cell_type": "code",
   "execution_count": null,
   "metadata": {},
   "outputs": [],
   "source": [
    "import pandas as pd\n",
    "import numpy as np\n",
    "from tqdm import tqdm\n",
    "from pathlib import Path\n",
    "import regex as re"
   ]
  },
  {
   "cell_type": "markdown",
   "metadata": {},
   "source": [
    "# DeepL"
   ]
  },
  {
   "cell_type": "code",
   "execution_count": null,
   "metadata": {},
   "outputs": [],
   "source": [
    "path = Path('')\n"
   ]
  },
  {
   "cell_type": "code",
   "execution_count": null,
   "metadata": {},
   "outputs": [],
   "source": [
    "data = pd.read_csv(path / 'dataset_5.csv', index_col='id')\n",
    "data_translated = pd.read_csv(path / 'dataset_5_translated.csv', index_col='id')\n",
    "data= data[~data.index.isin(data_translated.index)]\n",
    "len(data)"
   ]
  },
  {
   "cell_type": "code",
   "execution_count": null,
   "metadata": {},
   "outputs": [],
   "source": [
    "data['len'] = data['text'].apply(lambda x : len(x))\n",
    "data['len'].sum()"
   ]
  },
  {
   "cell_type": "code",
   "execution_count": null,
   "metadata": {},
   "outputs": [],
   "source": [
    "dfs = np.array_split(data, 2)\n",
    "\n",
    "for i, df in enumerate(dfs):\n",
    "    with open(f'f{i}.txt', 'w',encoding=\"utf-8\") as f:\n",
    "      f.write( \" ******* \".join( [ \"_\" + str(index) + '_ ' + row['text'] for index, row in df.iterrows()]))\n"
   ]
  },
  {
   "cell_type": "code",
   "execution_count": null,
   "metadata": {},
   "outputs": [],
   "source": [
    "# Open a file: file\n",
    "text_list = []\n",
    "for i in range(2):\n",
    "  with open(f'f{i}USpl.txt',mode='r',encoding=\"utf-8\") as file:\n",
    "    text = file.read()\n",
    "    text = re.sub(\"_\\d+_\", \"\", text)\n",
    "    text_list.extend(re.split(\"\\*\\*\\*\\*\\*\\*\\*\", text))\n",
    "    file.close()"
   ]
  },
  {
   "cell_type": "code",
   "execution_count": null,
   "metadata": {},
   "outputs": [],
   "source": [
    "len(text_list), len(data.index)"
   ]
  },
  {
   "cell_type": "code",
   "execution_count": null,
   "metadata": {},
   "outputs": [],
   "source": [
    "data[\"translated\"] = text_list\n",
    "data.drop(columns=\"len\", inplace=True)\n",
    "data.to_csv(\"translated_1.csv\")"
   ]
  },
  {
   "cell_type": "markdown",
   "metadata": {},
   "source": [
    "# Google translate"
   ]
  },
  {
   "cell_type": "code",
   "execution_count": null,
   "metadata": {},
   "outputs": [],
   "source": [
    "from translate import Translator\n",
    "from nltk import sent_tokenize\n",
    "\n",
    "def back_translation(text,source = 'polish', target = 'english'):\n",
    "    translator = Translator(to_lang= target)\n",
    "    tokenized_src = sent_tokenize(text, source)\n",
    "    text_tr = [translator.translate(sentence) for sentence in tokenized_src]\n",
    "    text_tr = ' '.join([i for i in text_tr if i is not None])\n",
    "    tokenized_tr = sent_tokenize(text_tr, target)\n",
    "    translator = Translator(to_lang=source)\n",
    "    translated = [translator.translate(sentence) for sentence in tokenized_tr]\n",
    "    translated = ' '.join([i for i in translated if i is not None])\n",
    "    return translated\n"
   ]
  },
  {
   "cell_type": "code",
   "execution_count": null,
   "metadata": {},
   "outputs": [],
   "source": [
    "dfs = np.array_split(data, 20)"
   ]
  },
  {
   "cell_type": "code",
   "execution_count": null,
   "metadata": {},
   "outputs": [],
   "source": [
    "from multiprocessing import Pool\n",
    "\n",
    "for index, df in tqdm(enumerate(dfs)):\n",
    "    with Pool(5) as pool:\n",
    "        df['translated'] = pool.map(back_translation, df['text'])\n",
    "    df.to_csv(f'translated{12+index}.csv')"
   ]
  },
  {
   "cell_type": "code",
   "execution_count": null,
   "metadata": {},
   "outputs": [],
   "source": [
    "dfs = np.array_split(data, 12)\n",
    "\n",
    "\n",
    "for index, df in tqdm(enumerate(dfs)):\n",
    "    if index in range(0,11):\n",
    "        print(index)\n",
    "    df['translated'] = df['text'].apply(back_translation)\n",
    "    df.to_csv(f'translated{index}.csv')\n"
   ]
  },
  {
   "cell_type": "code",
   "execution_count": null,
   "metadata": {},
   "outputs": [],
   "source": [
    "data = pd.concat([pd.read_csv(f'translated{i}.csv', index_col='id') for i in range(11)])\n",
    "data[data.index.duplicated()]"
   ]
  }
 ],
 "metadata": {
  "kernelspec": {
   "display_name": "Python 3",
   "language": "python",
   "name": "python3"
  },
  "language_info": {
   "codemirror_mode": {
    "name": "ipython",
    "version": 3
   },
   "file_extension": ".py",
   "mimetype": "text/x-python",
   "name": "python",
   "nbconvert_exporter": "python",
   "pygments_lexer": "ipython3",
   "version": "3.11.4"
  },
  "orig_nbformat": 4
 },
 "nbformat": 4,
 "nbformat_minor": 2
}
