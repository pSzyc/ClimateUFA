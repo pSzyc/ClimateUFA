{
 "cells": [
  {
   "cell_type": "code",
   "execution_count": null,
   "metadata": {},
   "outputs": [],
   "source": [
    "import pandas as pd\n",
    "import numpy as np\n",
    "import regex as re\n",
    "from data_pipeline import restore_authors"
   ]
  },
  {
   "cell_type": "code",
   "execution_count": null,
   "metadata": {},
   "outputs": [],
   "source": [
    "df_all = pd.read_csv('rzepa_all.csv')\n",
    "proper_cols = np.array(['title', 'magazine_nr', 'text', 'link', 'source', 'author','department', 'imgage', 'image_text', 'date','class'])"
   ]
  },
  {
   "cell_type": "markdown",
   "metadata": {},
   "source": [
    "# Department data"
   ]
  },
  {
   "cell_type": "code",
   "execution_count": null,
   "metadata": {},
   "outputs": [],
   "source": [
    "tagging = pd.read_csv(\"tagged/tagging.csv\")\n",
    "tagging_rzepa = tagging[tagging['source'] == 'rzepa']\n",
    "df_tagged = df_all[df_all['department'].isin(tagging_rzepa['department'])].copy()\n",
    "df_tagged['class'] = 1\n",
    "df_tagged['translated'] = 0"
   ]
  },
  {
   "cell_type": "code",
   "execution_count": null,
   "metadata": {},
   "outputs": [],
   "source": [
    "tagging_newsweek = tagging[tagging['source'] == 'newsweek']\n",
    "df_newsweek = pd.read_csv('../Newsweek/newsweek.csv')\n",
    "df_tagged_newsweek = df_newsweek[df_newsweek['Wydanie'].isin(tagging_newsweek['department'])].copy()\n",
    "df_tagged_newsweek['class'] = 1\n",
    "df_tagged_newsweek['translated'] = 0"
   ]
  },
  {
   "cell_type": "markdown",
   "metadata": {},
   "source": [
    "# cop data"
   ]
  },
  {
   "cell_type": "code",
   "execution_count": null,
   "metadata": {},
   "outputs": [],
   "source": [
    "cop_rzepa = pd.read_csv('cop_rzepa.csv')\n",
    "cop_rzepa = cop_rzepa[['title', 'date', 'text']].merge(df_all.reset_index(), on=['title', 'date'], how='left')\n",
    "cop_rzepa = cop_rzepa.dropna(subset=['text_x']).rename(columns={'text_x': 'text'})\n",
    "cop_rzepa = cop_rzepa.drop(columns=['text_y'])\n",
    "cop_rzepa['class'] = 1\n",
    "cop_rzepa['translated'] = 0"
   ]
  },
  {
   "cell_type": "markdown",
   "metadata": {},
   "source": [
    "# dataset"
   ]
  },
  {
   "cell_type": "code",
   "execution_count": null,
   "metadata": {},
   "outputs": [],
   "source": [
    "df = pd.read_csv(\"tagged/dataset.csv\")"
   ]
  },
  {
   "cell_type": "code",
   "execution_count": null,
   "metadata": {},
   "outputs": [],
   "source": [
    "df_new = pd.concat([df, cop_rzepa, df_tagged])\n",
    "print(len(df_new))\n",
    "df_new = df_new.drop_duplicates(subset=['title', 'translated','date'])\n",
    "df_new = df_new[['title', 'text', 'translated','class','source']]\n",
    "print(len(df_new))\n",
    "df_new = pd.concat([df_new, df_tagged_newsweek[['title', 'translated','class', 'text', 'source']]])"
   ]
  },
  {
   "cell_type": "code",
   "execution_count": null,
   "metadata": {},
   "outputs": [],
   "source": [
    "df_new.to_csv('tagged/dataset_02-2024.csv', index=False)"
   ]
  }
 ],
 "metadata": {
  "kernelspec": {
   "display_name": "usr",
   "language": "python",
   "name": "python3"
  },
  "language_info": {
   "codemirror_mode": {
    "name": "ipython",
    "version": 3
   },
   "file_extension": ".py",
   "mimetype": "text/x-python",
   "name": "python",
   "nbconvert_exporter": "python",
   "pygments_lexer": "ipython3",
   "version": "3.11.6"
  },
  "orig_nbformat": 4,
  "vscode": {
   "interpreter": {
    "hash": "767d51c1340bd893661ea55ea3124f6de3c7a262a8b4abca0554b478b1e2ff90"
   }
  }
 },
 "nbformat": 4,
 "nbformat_minor": 2
}
