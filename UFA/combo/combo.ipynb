{
 "cells": [
  {
   "cell_type": "code",
   "execution_count": 1,
   "metadata": {},
   "outputs": [],
   "source": [
    "import pandas as pd\n",
    "import os\n",
    "\n",
    "directory = \"../../Korpus\""
   ]
  },
  {
   "cell_type": "code",
   "execution_count": 2,
   "metadata": {},
   "outputs": [],
   "source": [
    "df_wyborcza_new = pd.read_csv(f\"{directory}/eco_wyborcza.csv\")\n",
    "df_wyborcza_old = pd.read_csv(\"eco_wyborcza.csv\")\n",
    "\n",
    "lemma = pd.read_csv(\"lemma.csv\")"
   ]
  },
  {
   "cell_type": "code",
   "execution_count": 3,
   "metadata": {},
   "outputs": [],
   "source": [
    "df_wyborcza = df_wyborcza_old.merge(df_wyborcza_new[['link', 'id', \"eco_id\"]], on='link', how='inner', suffixes=('', '_new'))"
   ]
  },
  {
   "cell_type": "code",
   "execution_count": 4,
   "metadata": {},
   "outputs": [
    {
     "data": {
      "text/plain": [
       "True"
      ]
     },
     "execution_count": 4,
     "metadata": {},
     "output_type": "execute_result"
    }
   ],
   "source": [
    "len(df_wyborcza_new) == len(df_wyborcza_old) == len(df_wyborcza)"
   ]
  },
  {
   "cell_type": "code",
   "execution_count": 5,
   "metadata": {},
   "outputs": [
    {
     "data": {
      "text/plain": [
       "True"
      ]
     },
     "execution_count": 5,
     "metadata": {},
     "output_type": "execute_result"
    }
   ],
   "source": [
    "lemma_wyborcza = lemma[lemma['source'] == \"Wyborcza\"]\n",
    "\n",
    "lemma_wyborcza_new = lemma_wyborcza.merge(df_wyborcza[['id', 'date', 'eco_id', \"id_new\"]], how='inner', on=['id', 'date']).drop(columns=[\"Unnamed: 0\"])\n",
    "\n",
    "len(lemma_wyborcza) == len(lemma_wyborcza_new)"
   ]
  },
  {
   "cell_type": "code",
   "execution_count": 6,
   "metadata": {},
   "outputs": [],
   "source": [
    "lemma_wyborcza_new['id'] = lemma_wyborcza_new['id_new']\n",
    "lemma_wyborcza_new = lemma_wyborcza_new.drop(columns=[\"id_new\"])"
   ]
  },
  {
   "cell_type": "code",
   "execution_count": 7,
   "metadata": {},
   "outputs": [],
   "source": [
    "lemma = lemma.drop(columns=[\"Unnamed: 0\"])\n",
    "lemma_other = lemma[lemma['source'] != \"Wyborcza\"]"
   ]
  },
  {
   "cell_type": "code",
   "execution_count": 8,
   "metadata": {},
   "outputs": [
    {
     "name": "stdout",
     "output_type": "stream",
     "text": [
      "eco_gpc.csv\n",
      "3874\n",
      "eco_wpolityce.csv\n",
      "498\n",
      "eco_newsweek.csv\n",
      "645\n",
      "eco_dorzeczy.csv\n",
      "307\n",
      "eco_polityka.csv\n",
      "950\n",
      "eco_wprost.csv\n",
      "538\n",
      "eco_wyborcza.csv\n",
      "6241\n",
      "eco_rzepa.csv\n",
      "6933\n"
     ]
    }
   ],
   "source": [
    "total_articles = 0\n",
    "data = []\n",
    "for filename in os.listdir(directory):\n",
    "    if filename.endswith(\".csv\"):\n",
    "        df = pd.read_csv(os.path.join(directory, filename))\n",
    "        print(filename)\n",
    "        print(len(df))\n",
    "        total_articles += len(df)\n",
    "        data.append(df)\n",
    "\n",
    "data = pd.concat(data)\n",
    "data_other = data[data['source'] != \"Wyborcza\"]"
   ]
  },
  {
   "cell_type": "code",
   "execution_count": 9,
   "metadata": {},
   "outputs": [],
   "source": [
    "lemma_other_new = lemma_other.merge(data_other[['source', 'id', 'eco_id']], on=['source', 'id'], how='left')"
   ]
  },
  {
   "cell_type": "code",
   "execution_count": null,
   "metadata": {},
   "outputs": [],
   "source": [
    "lemma_wyborcza_new['eco_id'] = lemma_wyborcza_new['eco_id'].astype('Int64')\n",
    "lemma_other_new['eco_id'] = lemma_other_new['eco_id'].astype('Int64')"
   ]
  },
  {
   "cell_type": "code",
   "execution_count": 11,
   "metadata": {},
   "outputs": [],
   "source": [
    "lemma_combined = pd.concat([lemma_other_new, lemma_wyborcza_new])"
   ]
  },
  {
   "cell_type": "code",
   "execution_count": 13,
   "metadata": {},
   "outputs": [],
   "source": [
    "lemma_combined.to_csv(\"lemma_new.csv\", index=False)"
   ]
  },
  {
   "cell_type": "code",
   "execution_count": 1,
   "metadata": {},
   "outputs": [
    {
     "name": "stderr",
     "output_type": "stream",
     "text": [
      "/home/ps/miniconda3/envs/combo/lib/python3.10/site-packages/tqdm/auto.py:22: TqdmWarning: IProgress not found. Please update jupyter and ipywidgets. See https://ipywidgets.readthedocs.io/en/stable/user_install.html\n",
      "  from .autonotebook import tqdm as notebook_tqdm\n"
     ]
    },
    {
     "name": "stdout",
     "output_type": "stream",
     "text": [
      "Using model LAMBO_213-UD_Polish-PDB\n",
      "TOKEN           LEMMA           UPOS       HEAD DEPREL    \n",
      "======= SENTENCE 1 =======\n",
      "Czołem          czół            PROPN        4 parataxis:obj\n",
      "!               !               PUNCT        1 punct     \n",
      "-               -               PUNCT        4 punct     \n",
      "przywitał       przywitać       VERB         0 root      \n",
      "się             się             PRON         4 expl:pv   \n",
      "Staś            Staś            PROPN        4 nsubj     \n",
      ".               .               PUNCT        4 punct     \n",
      "======= SENTENCE 2 =======\n",
      "Odwrócił        odwrócić        VERB         0 root      \n",
      "się             się             PRON         1 expl:pv   \n",
      "na              na              ADP          4 case      \n",
      "pięcie          pięta           NOUN         1 obl       \n",
      "i               i               CCONJ        6 cc        \n",
      "wyszedł         wyjść           VERB         1 conj      \n",
      ".               .               PUNCT        1 punct     \n",
      "======= SENTENCE 3 =======\n",
      "Chciała         chcieć          VERB        11 parataxis:obj\n",
      "by              by              AUX          1 aux:cnd   \n",
      "m               być             AUX          1 aux:clitic\n",
      ",               ,               PUNCT        7 punct     \n",
      "żeby            żeby            SCONJ        7 mark      \n",
      "śmy             być             AUX          7 aux:clitic\n",
      "poszli          pójść           VERB         1 ccomp     \n",
      "na              na              ADP          9 case      \n",
      "spacer          spacer          NOUN         7 obl       \n",
      "-               -               PUNCT       11 punct     \n",
      "powiedziała     powiedzieć      VERB         0 root      \n",
      "dziewczyna      dziewczyna      NOUN        11 nsubj     \n",
      ".               .               PUNCT       11 punct     \n"
     ]
    }
   ],
   "source": [
    "from combo.predict import COMBO\n",
    "\n",
    "model = COMBO.from_pretrained('polish-herbert-base-ud213')\n",
    "\n",
    "prediction = model(\"Czołem! - przywitał się Staś. Odwrócił się na pięcie i wyszedł. Chciałabym, żebyśmy poszli na spacer - powiedziała dziewczyna.\")\n",
    "\n",
    "print(\"{:15} {:15} {:10} {:3} {:10}\".format('TOKEN', 'LEMMA', 'UPOS', 'HEAD', 'DEPREL'))\n",
    "for i, sentence in enumerate(prediction):\n",
    "  print('======= SENTENCE {} ======='.format(str(i+1)))\n",
    "  for token in sentence.tokens:\n",
    "      print(\"{:15} {:15} {:10} {:3} {:10}\".format(token.text, token.lemma, token.upostag, token.head, token.deprel))"
   ]
  },
  {
   "cell_type": "code",
   "execution_count": 2,
   "metadata": {},
   "outputs": [],
   "source": [
    "import os\n",
    "import pandas as pd\n",
    "data = []\n",
    "for file in os.listdir(\"corpus\"):\n",
    "    df = pd.read_csv(\"corpus/\" + file, usecols=['id', 'source', 'date', 'text'])\n",
    "    data.append(df)\n",
    "\n",
    "data = pd.concat(data)"
   ]
  },
  {
   "cell_type": "code",
   "execution_count": 3,
   "metadata": {},
   "outputs": [
    {
     "data": {
      "text/plain": [
       "source    0.0\n",
       "id        0.0\n",
       "date      0.0\n",
       "text      0.0\n",
       "dtype: float64"
      ]
     },
     "execution_count": 3,
     "metadata": {},
     "output_type": "execute_result"
    }
   ],
   "source": [
    "df.isnull().mean()"
   ]
  },
  {
   "cell_type": "code",
   "execution_count": 5,
   "metadata": {},
   "outputs": [],
   "source": [
    "def combo_lemmatize(text):\n",
    "    prediction = model(text)\n",
    "    lemmas = []\n",
    "    for sentence in prediction:\n",
    "        for token in sentence.tokens:\n",
    "            lemmas.append(token.lemma)\n",
    "    return \" \".join(lemmas)\n",
    "\n",
    "texts = df.text.iloc[:5]\n",
    "for text in texts:\n",
    "    lemma = combo_lemmatize(text)"
   ]
  }
 ],
 "metadata": {
  "kernelspec": {
   "display_name": ".venv",
   "language": "python",
   "name": "python3"
  },
  "language_info": {
   "codemirror_mode": {
    "name": "ipython",
    "version": 3
   },
   "file_extension": ".py",
   "mimetype": "text/x-python",
   "name": "python",
   "nbconvert_exporter": "python",
   "pygments_lexer": "ipython3",
   "version": "3.11.11"
  }
 },
 "nbformat": 4,
 "nbformat_minor": 2
}
