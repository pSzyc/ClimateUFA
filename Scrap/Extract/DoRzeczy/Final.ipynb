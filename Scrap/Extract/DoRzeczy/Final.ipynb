{
 "cells": [
  {
   "cell_type": "code",
   "execution_count": null,
   "metadata": {},
   "outputs": [],
   "source": [
    "import pandas as pd\n",
    "import urllib\n",
    "import re\n",
    "from datetime import datetime"
   ]
  },
  {
   "cell_type": "markdown",
   "metadata": {},
   "source": [
    "# Epub and Mobi"
   ]
  },
  {
   "cell_type": "code",
   "execution_count": null,
   "metadata": {},
   "outputs": [],
   "source": [
    "dates = set()\n",
    "\n",
    "links = [f'https://eprasa.pl/news/do-rzeczy?page={i}' for i in range(2,8)]\n",
    "links.append(\"https://eprasa.pl/news/do-rzeczy\")\n",
    "\n",
    "for link in links:\n",
    "        with urllib.request.urlopen(link) as url:\n",
    "            print(link)\n",
    "            s = url.read().decode('utf-8')\n",
    "            # I'm guessing this would output the html source code ?\n",
    "            dates.update(set(re.findall(\"(?<=Do Rzeczy )(\\d+) \\(([\\d\\.]+)\\)\", s)))\n",
    "\n",
    "dates.update(set([('17', '08.05.2022'),('17', '07.05.2023')]))"
   ]
  },
  {
   "cell_type": "code",
   "execution_count": null,
   "metadata": {},
   "outputs": [],
   "source": [
    "df_dates = pd.DataFrame(dates, columns=['magazine_nr', 'date'])\n",
    "df_dates['magazine_nr'] = df_dates['magazine_nr'].astype(int)\n",
    "df_dates['date'] = pd.to_datetime(df_dates['date'], format='%d.%m.%Y')\n",
    "df_dates.loc[(df_dates.date.dt.year == 2023) & (df_dates.magazine_nr > 17) & (df_dates.magazine_nr < 21), 'magazine_nr'] -=1\n",
    "df_dates.loc[(df_dates.date.dt.year == 2022) & (df_dates.magazine_nr > 17), 'magazine_nr'] -=1\n",
    "\n",
    "df_dates.loc[df_dates['date'].dt.year == 2022, 'magazine_nr'] += 456\n",
    "df_dates.loc[df_dates['date'].dt.year == 2021, 'magazine_nr'] += 405\n",
    "df_dates.loc[df_dates['date'].dt.year == 2023, 'magazine_nr'] += 507\n",
    "\n",
    "df_dates.loc[df_dates['date'] == datetime.strptime(\"27.12.2022\", \"%d.%m.%Y\"), \"magazine_nr\"] = 508\n",
    "df_dates.loc[df_dates['date'] == datetime.strptime(\"11.04.2022\", \"%d.%m.%Y\"), \"magazine_nr\"] = 573\n"
   ]
  },
  {
   "cell_type": "code",
   "execution_count": null,
   "metadata": {},
   "outputs": [],
   "source": [
    "df_epub = pd.read_csv(\"Epub/from_epub.csv\")\n",
    "df_epub.drop(columns=\"Unnamed: 0\", inplace = True)\n",
    "df_mobi = pd.read_csv(\"Mobi/from_mobi.csv\")\n",
    "df_mobi.drop(columns=\"Unnamed: 0\", inplace = True)\n",
    "df_epub['file'] = 'epub'\n",
    "df_mobi['file'] = 'mobi'\n",
    "df_all = pd.concat([df_epub, df_mobi])\n",
    "df_all = pd.merge(df_all,df_dates, how='left', on='magazine_nr')"
   ]
  },
  {
   "cell_type": "code",
   "execution_count": null,
   "metadata": {},
   "outputs": [],
   "source": [
    "def missing_values(data):\n",
    "    dict = {}\n",
    "    features = data.columns\n",
    "    for feature in features:\n",
    "        dict[feature] = data[feature].isnull().sum() / len(data) * 100\n",
    "    return pd.DataFrame.from_dict(dict,orient ='index', columns=['Missing ratio %']).sort_values('Missing ratio %', ascending=False)\n",
    "\n",
    "df_all.replace('None', None, inplace=True)\n",
    "df_all = df_all[~df_all['text'].isna()]\n",
    "missing_values(df_all)"
   ]
  },
  {
   "cell_type": "markdown",
   "metadata": {},
   "source": [
    "# PDF"
   ]
  },
  {
   "cell_type": "code",
   "execution_count": null,
   "metadata": {},
   "outputs": [],
   "source": [
    "dates = set()\n",
    "\n",
    "links = [f'https://eprasa.pl/news/do-rzeczy?page={i}' for i in range(2,25)]\n",
    "links.append(\"https://eprasa.pl/news/do-rzeczy\")\n",
    "\n",
    "for link in links:\n",
    "        with urllib.request.urlopen(link) as url:\n",
    "            print(link)\n",
    "            s = url.read().decode('utf-8')\n",
    "            # I'm guessing this would output the html source code ?\n",
    "            dates.update(set(re.findall(\"(?<=Do Rzeczy )([\\d-]+) \\(([\\d\\.]+)\\)\", s)))\n",
    "dates.update(set([ (\"13-14\", \"05.04.2020\"),('13I', '29.03.2020')]))"
   ]
  },
  {
   "cell_type": "code",
   "execution_count": null,
   "metadata": {},
   "outputs": [],
   "source": [
    "dates.update(set([ (\"13-14\", \"05.04.2020\"),('13', '29.03.2020')]))"
   ]
  },
  {
   "cell_type": "code",
   "execution_count": null,
   "metadata": {},
   "outputs": [],
   "source": [
    "df_dates = pd.DataFrame(dates, columns=['magazine_nr_1', 'date'])\n",
    "df_dates['date'] = pd.to_datetime(df_dates['date'], format='%d.%m.%Y')\n",
    "df_dates['year'] = df_dates['date'].dt.year"
   ]
  },
  {
   "cell_type": "code",
   "execution_count": null,
   "metadata": {},
   "outputs": [],
   "source": [
    "df_dates[df_dates['year'] == 2020].sort_values(\"date\").iloc[-1]\n",
    "df_dates.loc[(df_dates['year'] == 2020) & (df_dates['date'] == datetime.strptime(\"2020-12-31 00:00:00\",\"%Y-%m-%d %H:%M:%S\" )), \"year\"] = 2021"
   ]
  },
  {
   "cell_type": "code",
   "execution_count": null,
   "metadata": {},
   "outputs": [],
   "source": [
    "df_dates.to_csv(\"Final/dates_extracted.csv\")"
   ]
  },
  {
   "cell_type": "markdown",
   "metadata": {},
   "source": [
    "# Merge with csv files"
   ]
  },
  {
   "cell_type": "code",
   "execution_count": null,
   "metadata": {},
   "outputs": [],
   "source": [
    "def date_merge(year, df_dates=df_dates):\n",
    "    df = pd.read_csv(f\"Pdf/dorzeczy_{year}.csv\")\n",
    "    try:\n",
    "        df.drop(columns=\"Unnamed: 0\", inplace = True)\n",
    "    except:\n",
    "        pass\n",
    "    df['magazine_nr_1'] = df['magazine_nr_1'].astype(str).apply(lambda x: re.sub(\"–\", \"-\", x))\n",
    "    df['magazine_nr_1'] = df['magazine_nr_1'].astype(str).apply(lambda x: re.sub(\"^0\", \"\", x))\n",
    "    df_merged =  pd.merge(df, df_dates[df_dates['year'] == year], on=\"magazine_nr_1\", how=\"left\")\n",
    "    print(f\"{year}: {len(df_merged[df_merged['date'].isna()])}\")\n",
    "    return df_merged"
   ]
  },
  {
   "cell_type": "code",
   "execution_count": null,
   "metadata": {},
   "outputs": [],
   "source": [
    "years = [year for year in range(2015,2024)]\n",
    "df_list = list(map(date_merge, years))"
   ]
  },
  {
   "cell_type": "code",
   "execution_count": null,
   "metadata": {},
   "outputs": [],
   "source": [
    "def link_extractor(row):\n",
    "    year = row['year']\n",
    "    magazine_nr_1 = row['magazine_nr_1']\n",
    "    magazine_nr_2 = row['magazine_nr_2']\n",
    "    return f'https://tygodnik.dorzeczy.pl/archiwum/{magazine_nr_2}/dorzeczy-{magazine_nr_1}-{year}.html'"
   ]
  },
  {
   "cell_type": "code",
   "execution_count": null,
   "metadata": {},
   "outputs": [],
   "source": [
    "df_pdf = pd.concat(df_list)\n",
    "df_pdf['magazine_nr_2'] = df_pdf['magazine_nr_2'].fillna(\"0\")\n",
    "df_pdf['magazine_nr_2'] = df_pdf['magazine_nr_2'].astype(int)\n",
    "df_pdf['link'] = df_pdf.apply(link_extractor, axis = 1)"
   ]
  },
  {
   "cell_type": "code",
   "execution_count": null,
   "metadata": {},
   "outputs": [],
   "source": [
    "df_pdf.drop(columns=['file', 'page', 'magazine_nr_1', 'year'], inplace= True)\n",
    "df_pdf.rename(columns = {\"magazine_nr_2\": \"magazine_nr\", \"content\": \"text\", }, inplace=True)"
   ]
  },
  {
   "cell_type": "code",
   "execution_count": null,
   "metadata": {},
   "outputs": [],
   "source": [
    "missing_values(df_pdf)"
   ]
  },
  {
   "cell_type": "markdown",
   "metadata": {},
   "source": [
    "# Concat"
   ]
  },
  {
   "cell_type": "code",
   "execution_count": null,
   "metadata": {},
   "outputs": [],
   "source": [
    "cols = set(df_pdf.columns.values)\n",
    "cols.update(df_all.columns.values)\n",
    "cols"
   ]
  },
  {
   "cell_type": "code",
   "execution_count": null,
   "metadata": {},
   "outputs": [],
   "source": [
    "df_final = pd.concat([df_all, df_pdf])"
   ]
  },
  {
   "cell_type": "code",
   "execution_count": null,
   "metadata": {},
   "outputs": [],
   "source": [
    "df_final.reset_index(inplace=True)\n",
    "df_final.rename(columns={\"index\": \"id\"}, inplace=True)"
   ]
  },
  {
   "cell_type": "code",
   "execution_count": null,
   "metadata": {},
   "outputs": [],
   "source": [
    "len(df_final)"
   ]
  },
  {
   "cell_type": "code",
   "execution_count": null,
   "metadata": {},
   "outputs": [],
   "source": [
    "df_final.to_csv(\"dorzeczy.csv\", index = False)"
   ]
  }
 ],
 "metadata": {
  "kernelspec": {
   "display_name": "usr",
   "language": "python",
   "name": "python3"
  },
  "language_info": {
   "codemirror_mode": {
    "name": "ipython",
    "version": 3
   },
   "file_extension": ".py",
   "mimetype": "text/x-python",
   "name": "python",
   "nbconvert_exporter": "python",
   "pygments_lexer": "ipython3",
   "version": "3.11.4"
  },
  "orig_nbformat": 4
 },
 "nbformat": 4,
 "nbformat_minor": 2
}
