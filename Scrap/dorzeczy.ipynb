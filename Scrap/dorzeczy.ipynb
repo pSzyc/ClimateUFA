{
 "cells": [
  {
   "cell_type": "code",
   "execution_count": null,
   "metadata": {},
   "outputs": [],
   "source": [
    "from pathlib import Path\n",
    "import requests\n",
    "from selenium.webdriver.chrome.options import Options\n",
    "from selenium import webdriver\n",
    "import time\n",
    "import pandas as pd\n",
    "import urllib\n",
    "import re\n",
    "import os\n",
    "import re"
   ]
  },
  {
   "cell_type": "code",
   "execution_count": null,
   "metadata": {},
   "outputs": [],
   "source": [
    "def save_pdfs(pdfs, year):\n",
    "    pdfs.reverse()\n",
    "    for i, url in enumerate(pdfs):\n",
    "        output_file = \"DoRzeczy\"+str(year)\n",
    "        Path(output_file).mkdir(parents=True, exist_ok=True)\n",
    "        filename = Path(f'{output_file}/dorzeczy_{i+1}_{year}.pdf')\n",
    "        response = requests.get(url)\n",
    "        filename.write_bytes(response.content)"
   ]
  },
  {
   "cell_type": "code",
   "execution_count": null,
   "metadata": {},
   "outputs": [],
   "source": [
    "chrome_options = Options()\n",
    "chrome_options.add_argument(\"user-data-dir=selenium\")\n",
    "driver = webdriver.Chrome(options=chrome_options)\n",
    "\n",
    "def get_url_mobi(link):\n",
    "    driver.get(link)\n",
    "    time.sleep(0.5)\n",
    "    button = driver.find_element('link text',\"pdf\")\n",
    "    button.click()\n",
    "    time.sleep(0.5)\n",
    "\n",
    "\n",
    "\n",
    "links =[]\n",
    "begin = 411\n",
    "end = 508\n",
    "for i in range(end - begin):\n",
    "        links.append(f\"https://tygodnik.dorzeczy.pl/archiwum/{begin + i}/dorzeczy-{i+1}-{2022}.html\")\n",
    "\n",
    "print(links)\n",
    "for link in links: pass #get_url_mobi(link)\n"
   ]
  },
  {
   "cell_type": "code",
   "execution_count": null,
   "metadata": {},
   "outputs": [],
   "source": [
    "def get_url(link):\n",
    "    driver.get(link)\n",
    "    button = driver.find_element('link text',\"MOBI\")\n",
    "    button.click()\n",
    "    time.sleep(2)\n",
    "    driver.switch_to.window(driver.window_handles[1])\n",
    "    pdf_link = driver.current_url\n",
    "    driver.close()\n",
    "    driver.switch_to.window(driver.window_handles[0])\n",
    "    print(pdf_link)\n",
    "    return pdf_link\n",
    "\n",
    "current_num = 536 - 29\n",
    "nums = [51, 51, 52, 51, 51, 51, 51, 52, 51]\n",
    "current_year = 2022\n",
    "\n",
    "for num in nums:\n",
    "    links =[]\n",
    "    for i in range(num):\n",
    "        links.append(f\"https://tygodnik.dorzeczy.pl/archiwum/{current_num}/dorzeczy-{num - i}-{current_year}.html\")\n",
    "        current_num -= 1\n",
    "    pdfs = [get_url(link) for link in links]\n",
    "    save_pdfs(pdfs, current_year)\n",
    "    current_year -= 1"
   ]
  },
  {
   "cell_type": "code",
   "execution_count": null,
   "metadata": {},
   "outputs": [],
   "source": [
    "\n",
    "\n",
    "folder_path = 'DoRzeczy2014'  # Replace this with the path to your folder\n",
    "\n",
    "# Define a regular expression pattern to match the files\n",
    "pattern = r'^(dorzeczy)_(\\d+)_(\\d+\\.pdf)$'\n",
    "\n",
    "def rename_files_in_folder(folder_path):\n",
    "    for filename in os.listdir(folder_path):\n",
    "        file_path = os.path.join(folder_path, filename)\n",
    "        if os.path.isfile(file_path):\n",
    "            match = re.match(pattern, filename)\n",
    "            if match:\n",
    "                prefix, index, year = match.groups()\n",
    "                new_index = int(index) - 2\n",
    "                new_filename = f\"{prefix}_{new_index}_{year}\"\n",
    "                new_file_path = os.path.join(folder_path, new_filename)\n",
    "                os.rename(file_path, new_file_path)\n",
    "                print(f\"Renamed {filename} to {new_filename}\")\n",
    "            else:\n",
    "                print(f\"Skipped {filename} (doesn't match the pattern)\")\n",
    "\n",
    "\n",
    "#rename_files_in_folder(folder_path)"
   ]
  },
  {
   "cell_type": "markdown",
   "metadata": {},
   "source": [
    "# DoRzeczy Dates"
   ]
  },
  {
   "cell_type": "code",
   "execution_count": null,
   "metadata": {},
   "outputs": [],
   "source": [
    "dates = set()\n",
    "\n",
    "links = [f'https://eprasa.pl/news/do-rzeczy?page={i}' for i in range(2,8)]\n",
    "links.append(\"https://eprasa.pl/news/do-rzeczy\")\n",
    "\n",
    "for link in links:\n",
    "        with urllib.request.urlopen(link) as url:\n",
    "            print(link)\n",
    "            s = url.read().decode('utf-8')\n",
    "            # I'm guessing this would output the html source code ?\n",
    "            dates.update(set(re.findall(\"(?<=Do Rzeczy )(\\d+) \\(([\\d\\.]+)\\)\", s)))\n",
    "\n",
    "dates.update(set([('17', '08.05.2022'),('17', '07.05.2023')]))"
   ]
  },
  {
   "cell_type": "code",
   "execution_count": null,
   "metadata": {},
   "outputs": [],
   "source": [
    "df = pd.DataFrame(dates, columns=['magazine_nr', 'date'])\n",
    "df['magazine_nr'] = df['magazine_nr'].astype(int)\n",
    "df['date'] = pd.to_datetime(df['date'], format='%d.%m.%Y')\n",
    "df.loc[(df.date.dt.year == 2023) & (df.magazine_nr > 17) & (df.magazine_nr < 21), 'magazine_nr'] -=1\n",
    "df.loc[(df.date.dt.year == 2022) & (df.magazine_nr > 17), 'magazine_nr'] -=1\n",
    "\n",
    "df.loc[df['date'].dt.year == 2022, 'magazine_nr'] += 456\n",
    "df.loc[72, 'magazine_nr'] += 51\n",
    "df.loc[df['date'].dt.year == 2021, 'magazine_nr'] += 405\n",
    "df.loc[df['date'].dt.year == 2023, 'magazine_nr'] += 507\n",
    "#df.to_csv('Extract/dorzeczy_dates.csv', index =False)"
   ]
  },
  {
   "cell_type": "code",
   "execution_count": null,
   "metadata": {},
   "outputs": [],
   "source": [
    "df.to_csv(\"Extract/dorzeczy_dates.csv\",index=False)"
   ]
  },
  {
   "cell_type": "code",
   "execution_count": null,
   "metadata": {},
   "outputs": [],
   "source": [
    "df[df['date'].dt.year ==2021].sort_values('magazine_nr')"
   ]
  },
  {
   "cell_type": "code",
   "execution_count": null,
   "metadata": {},
   "outputs": [],
   "source": [
    "df[df['magazine_nr'] == 473]['date']"
   ]
  },
  {
   "cell_type": "code",
   "execution_count": null,
   "metadata": {},
   "outputs": [],
   "source": [
    "import datetime\n",
    "\n",
    "double_date = datetime.date(2022,5,8)\n",
    "df[df['date'].dt > double_date]"
   ]
  }
 ],
 "metadata": {
  "kernelspec": {
   "display_name": "Python 3",
   "language": "python",
   "name": "python3"
  },
  "language_info": {
   "codemirror_mode": {
    "name": "ipython",
    "version": 3
   },
   "file_extension": ".py",
   "mimetype": "text/x-python",
   "name": "python",
   "nbconvert_exporter": "python",
   "pygments_lexer": "ipython3",
   "version": "3.11.6"
  },
  "orig_nbformat": 4
 },
 "nbformat": 4,
 "nbformat_minor": 2
}
