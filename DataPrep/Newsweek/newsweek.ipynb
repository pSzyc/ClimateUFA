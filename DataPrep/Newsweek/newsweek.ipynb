{
 "cells": [
  {
   "cell_type": "code",
   "execution_count": null,
   "metadata": {},
   "outputs": [],
   "source": [
    "import pandas as pd\n",
    "import regex as re"
   ]
  },
  {
   "cell_type": "markdown",
   "metadata": {},
   "source": [
    "# From excel"
   ]
  },
  {
   "cell_type": "code",
   "execution_count": null,
   "metadata": {},
   "outputs": [],
   "source": [
    "df = pd.read_excel(\"Newsweek.xlsx\", index_col='id')"
   ]
  },
  {
   "cell_type": "code",
   "execution_count": null,
   "metadata": {},
   "outputs": [],
   "source": [
    "df = df[df['source'] == 'Newsweek']\n",
    "df = df[~df['text'].isna()]\n",
    "df['magazine_nr'] = df['magazine_nr'].apply(lambda x: x.replace('_x000D_', '').strip())\n",
    "df['magazine_nr'] = df['magazine_nr'].apply(lambda x: re.search(\"\\d+/\\d+\", x).group(0) if re.search(\"\\d+/\\d+\", x) is not None else None)"
   ]
  },
  {
   "cell_type": "code",
   "execution_count": null,
   "metadata": {},
   "outputs": [],
   "source": [
    "df['title_main'] = df['title_main'].astype(str).fillna(' ')\n",
    "df['title_sub'] = df['title_sub'].astype(str).fillna(' ')\n",
    "df['title'] = df['title_main'] + ' ' +  df['title_sub']"
   ]
  },
  {
   "cell_type": "code",
   "execution_count": null,
   "metadata": {},
   "outputs": [],
   "source": [
    "df = df[df['magazine_nr'].notna()]"
   ]
  },
  {
   "cell_type": "markdown",
   "metadata": {},
   "source": [
    "# Date problem"
   ]
  },
  {
   "cell_type": "code",
   "execution_count": null,
   "metadata": {},
   "outputs": [],
   "source": [
    "from bs4 import BeautifulSoup\n",
    "import requests\n",
    "mgz_list = []\n",
    "date_list = []\n",
    "for year in range(2015, 2023):\n",
    "    print(year)\n",
    "    url = f'https://www.newsweek.pl/lista-wydan/{year}'\n",
    "    response = requests.get(url)\n",
    "    soup = BeautifulSoup(response.text, 'html.parser')\n",
    "    divs = soup.find_all('div', {'class': 'editionsList__title'})\n",
    "\n",
    "    texts = [re.search(r'\\d.*\\d', div.get_text()).group(0) for div in divs]\n",
    "    \n",
    "    dates  = [re.search(r'\\/\\s(.*)$', text).group(1) for text in texts]\n",
    "    magazine_nrs = [re.search(r'^([\\d\\-]*)\\s(.*)\\.(\\d+)$', text) for text in texts]\n",
    "    magazine_nrs = [magazine_nr.group(1) + '/' + magazine_nr.group(3) for magazine_nr in magazine_nrs]\n",
    "    mgz_list.extend(magazine_nrs)\n",
    "    date_list.extend(dates)"
   ]
  },
  {
   "cell_type": "code",
   "execution_count": null,
   "metadata": {},
   "outputs": [],
   "source": [
    "date_list.extend(['18.04.2017', '23.04.2018', '18.12.2018', '06.05.2019', '15.12.2019', '07.03.2020', '20.12.2020', '19.12.2021'])\n",
    "mgz_list.extend(['18/2017', '18/2018', '52/2018', '17/2019', '51/2019', '11/2020', '52/2020', '51/2021'])\n",
    "df_mapping = pd.DataFrame({'date': date_list, 'magazine_nr': mgz_list})"
   ]
  },
  {
   "cell_type": "code",
   "execution_count": null,
   "metadata": {},
   "outputs": [],
   "source": [
    "df_merge = df.merge(df_mapping[['magazine_nr', 'date']], on='magazine_nr', how='left')\n",
    "df_merge['date'] = df_merge['date_y'].fillna(df_merge['date_x'])\n",
    "df_merge = df_merge.drop(['date_x', 'date_y'], axis=1)\n",
    "df_error = df_merge[~df_merge['date'].str.contains(r'\\.')]"
   ]
  },
  {
   "cell_type": "code",
   "execution_count": null,
   "metadata": {},
   "outputs": [],
   "source": [
    "df_merge = df_merge.reset_index().rename(columns={'index':'id'})\n",
    "df_merge.to_csv('newsweek.csv', index=False)"
   ]
  },
  {
   "cell_type": "code",
   "execution_count": null,
   "metadata": {},
   "outputs": [],
   "source": [
    "df_merge['date_parsed'] = pd.to_datetime(df_merge['date'], format='%d.%m.%Y')\n",
    "len(df_merge[df_merge['date_parsed'].isna()])"
   ]
  }
 ],
 "metadata": {
  "kernelspec": {
   "display_name": "Python 3",
   "language": "python",
   "name": "python3"
  },
  "language_info": {
   "codemirror_mode": {
    "name": "ipython",
    "version": 3
   },
   "file_extension": ".py",
   "mimetype": "text/x-python",
   "name": "python",
   "nbconvert_exporter": "python",
   "pygments_lexer": "ipython3",
   "version": "3.11.6"
  },
  "orig_nbformat": 4
 },
 "nbformat": 4,
 "nbformat_minor": 2
}
