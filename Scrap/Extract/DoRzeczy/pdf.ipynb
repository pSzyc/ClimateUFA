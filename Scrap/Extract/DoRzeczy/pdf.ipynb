{
 "cells": [
  {
   "cell_type": "code",
   "execution_count": null,
   "metadata": {},
   "outputs": [],
   "source": [
    "import fitz\n",
    "import pandas as pd\n",
    "from pipeline import rzepa_pipeline\n",
    "import regex as re"
   ]
  },
  {
   "cell_type": "markdown",
   "metadata": {},
   "source": [
    "## File conversions"
   ]
  },
  {
   "cell_type": "code",
   "execution_count": null,
   "metadata": {},
   "outputs": [],
   "source": [
    "def pdf_to_txt(path_in, path_out):\n",
    "    doc = fitz.open(path_in)                           # open a document\n",
    "    out = open(path_out, \"wb\")                  # create a text output\n",
    "    for i, page in enumerate(doc):                  # iterate the document pages\n",
    "        text = page.get_text().strip().encode(\"utf8\")       # get plain text (is in UTF-8)\n",
    "        out.write(text)                             # write text of page\n",
    "        out.write(bytes(f\"_Page {i+1}_\\n\", 'utf-8'))  # write page delimiter (form feed 0x0C)\n",
    "    out.close()"
   ]
  },
  {
   "cell_type": "code",
   "execution_count": null,
   "metadata": {},
   "outputs": [],
   "source": [
    "def author_correction(df , author_names):\n",
    "    df['author'] = df['author'].fillna(\"None\")\n",
    "    df[\"author_len\"] = df['author'].apply(lambda x: len(x))\n",
    "    df['author'] = df['author'].str.strip()\n",
    "    df['title'] = df['title'].str.strip()\n",
    "    df['author'] = df['author'].apply(lambda x: re.sub(\" Z( |\\xa0).+\", \"\", x))\n",
    "\n",
    "    for name_surname in author_names:\n",
    "        name = name_surname.split(\" \")[0]\n",
    "        surname = name_surname.split(\" \")[1]\n",
    "        regex_expression = f'^(?i){surname}'\n",
    "        df.loc[df[\"author\"] == name, 'title'] = df.loc[df[\"author\"] == name, 'title'].apply(lambda x: re.sub(regex_expression, \"\" ,x))\n",
    "        df.loc[df[\"author\"] == name, 'author'] = name_surname\n",
    "\n",
    "    df['author'] = df[\"author\"].apply(lambda x: x.upper() if x != None else 'None')\n",
    "    return df"
   ]
  },
  {
   "cell_type": "markdown",
   "metadata": {},
   "source": [
    "# 2015"
   ]
  },
  {
   "cell_type": "code",
   "execution_count": null,
   "metadata": {},
   "outputs": [],
   "source": [
    "special_files = [\"dorzeczy_51_2015.pdf\", \"dorzeczy_20_2015.pdf\", \"dorzeczy_21_2015.pdf\",\"dorzeczy_24_2015.pdf\", \"dorzeczy_33_2015.pdf\", \"dorzeczy_45_2015.pdf\", \"dorzeczy_7_2015.pdf\", \"dorzeczy_25_2015.pdf\", \"dorzeczy_29_2015.pdf\", \"dorzeczy_5_2015.pdf\", \"dorzeczy_19_2015.pdf\", \"dorzeczy_18_2015.pdf\", \"dorzeczy_7_2015.pdf\", \"dorzeczy_27_2015.pdf\"]\n",
    "folder_name_2015 = \"DoRzeczy/DoRzeczy2015/\""
   ]
  },
  {
   "cell_type": "code",
   "execution_count": null,
   "metadata": {},
   "outputs": [],
   "source": [
    "df_2015, problem_files = rzepa_pipeline(\"DoRzeczy/DoRzeczy2015/\", special_files, 2015)"
   ]
  },
  {
   "cell_type": "code",
   "execution_count": null,
   "metadata": {},
   "outputs": [],
   "source": [
    "df_problem = pd.DataFrame(problem_files, columns=[\"filename\", \"problem\"])\n",
    "df = df_2015.copy()\n",
    "df_problem['problem'].value_counts()"
   ]
  },
  {
   "cell_type": "markdown",
   "metadata": {},
   "source": [
    "Table of Contents    4 <br>\n",
    "Not Chronological    2 <br>\n",
    "Page number          2 <br>"
   ]
  },
  {
   "cell_type": "code",
   "execution_count": null,
   "metadata": {},
   "outputs": [],
   "source": [
    "author_names = [\"JOANNA BOJAŃCZYK\", \"PIOTR ZYCHOWICZ\", \"WITOLD REPETOWICZ\", \"ŁUKASZ MAJCHRZYK\", \"ZYGMUNT BERDYCHOWSKI\",\n",
    "                \"SŁAWOMIR CIENCKIEWICZ\", \"GRZEGORZ KRYCHOWIAK\", \"KRZYSZTOF MASŁOŃ\", \"KATARZYNA PINKOSZ\", \"STEFAN SĘKOWSKI\", \"ANDRZEJ HORUBAŁA\", \"WALDEMAR ŁYSIAK\"]\n",
    "\n",
    "df = author_correction(df, author_names)"
   ]
  },
  {
   "cell_type": "code",
   "execution_count": null,
   "metadata": {},
   "outputs": [],
   "source": [
    "df.drop(columns=['error', 'error_count', 'author_len'], inplace=True)\n",
    "df['year'] = 2015\n",
    "df.to_csv(\"dorzeczy_2015.csv\", index=False)"
   ]
  },
  {
   "cell_type": "markdown",
   "metadata": {},
   "source": [
    "# 2016"
   ]
  },
  {
   "cell_type": "code",
   "execution_count": null,
   "metadata": {},
   "outputs": [],
   "source": [
    "special_files = [\"dorzeczy_29_2016.pdf\", \"dorzeczy_19_2016.pdf\" ,\"dorzeczy_13_2016.pdf\", \"dorzeczy_42_2016.pdf\", \"dorzeczy_46_2016.pdf\"]\n",
    "folder_name_2016 = \"DoRzeczy/DoRzeczy2016/\""
   ]
  },
  {
   "cell_type": "code",
   "execution_count": null,
   "metadata": {},
   "outputs": [],
   "source": [
    "df_2016, problem_files = rzepa_pipeline(folder_name_2016, special_files, 2016)"
   ]
  },
  {
   "cell_type": "code",
   "execution_count": null,
   "metadata": {},
   "outputs": [],
   "source": [
    "df_problem = pd.DataFrame(problem_files, columns=[\"filename\", \"problem\"])\n",
    "df = df_2016.copy()\n",
    "df_problem['problem'].value_counts()"
   ]
  },
  {
   "cell_type": "markdown",
   "metadata": {},
   "source": [
    "Table of Contents    7 <br>\n",
    "Page number          5 <br>\n",
    "Not Chronological    2 <br>"
   ]
  },
  {
   "cell_type": "code",
   "execution_count": null,
   "metadata": {},
   "outputs": [],
   "source": [
    "author_names = [\"JOANNA BOJAŃCZYK\", \"JACEK Przybylski\", \"STEFAN Sękowski\", \"ANDRZEJ Horubała\", \"WALDEMAR Łysiak\", \"PRZEMYSŁAW Kawalec\"]\n",
    "df = author_correction(df, author_names)\n",
    "df.loc[(df[\"author\"]==\"ŁUKASZ\") & (df['page'] == 90), 'author'] = \"ŁUKASZ Majchrzyk\"\n",
    "df.loc[(df[\"author\"]==\"ŁUKASZ\") & (df['page'] == 100), 'author'] = \"ŁUKASZ Zboralski\"\n",
    "df.loc[df[\"author\"]==\"TOMASZ P.\", 'author'] = \"TOMASZ P. Terlikowski\"\n",
    "df['author'] = df[\"author\"].apply(lambda x: x.upper())\n"
   ]
  },
  {
   "cell_type": "code",
   "execution_count": null,
   "metadata": {},
   "outputs": [],
   "source": [
    "df.drop(columns=['error', 'error_count', 'author_len'], inplace=True)\n",
    "df.to_csv(\"dorzeczy_2016.csv\", index=False)"
   ]
  },
  {
   "cell_type": "markdown",
   "metadata": {},
   "source": [
    "# 2017"
   ]
  },
  {
   "cell_type": "code",
   "execution_count": null,
   "metadata": {},
   "outputs": [],
   "source": [
    "special_files = [\"dorzeczy_28_2017.pdf\", \"dorzeczy_26_2017.pdf\"]\n",
    "folder_name_2017 = \"DoRzeczy/DoRzeczy2017/\""
   ]
  },
  {
   "cell_type": "code",
   "execution_count": null,
   "metadata": {},
   "outputs": [],
   "source": [
    "df_2017, problem_files = rzepa_pipeline(folder_name_2017, special_files, 2017)"
   ]
  },
  {
   "cell_type": "code",
   "execution_count": null,
   "metadata": {},
   "outputs": [],
   "source": [
    "df_problem = pd.DataFrame(problem_files, columns=[\"filename\", \"problem\"])\n",
    "df = df_2017.copy()\n",
    "df_problem['problem'].value_counts()"
   ]
  },
  {
   "cell_type": "markdown",
   "metadata": {},
   "source": [
    "Table of Contents    6 <br>\n",
    "Not Chronological    5 <br>\n",
    "Page number          2 <br>\n",
    "Many found           1 <br>"
   ]
  },
  {
   "cell_type": "code",
   "execution_count": null,
   "metadata": {},
   "outputs": [],
   "source": [
    "author_names = [\"MARIA Rutowska\", \"MARTA Marcinkiewicz\", \"JOANNA Bojańczyk\", \"STEFAN Sękowski\", \"ŁUKASZ Zboralski\", \n",
    "                   \"GRZEGORZ Brzozowicz\",\"TOMASZ Kwaśnicki\", \"JACEK Przybylski\", \"AGNIESZKA Niewińska\", \"ANDRZEJ Horubała\", \"WOJCIECH Wybranowski\", \"MAŁGORZATA Wołczyk\"]\n",
    "\n",
    "\n",
    "df = author_correction(df, author_names)\n",
    "df.loc[(df[\"author\"]==\"TOMASZ\") & (df['file'].isin([\"dorzeczy_38_2017.pdf\", 'dorzeczy_14_2017.pdf'])), 'author'] = \"TOMASZ P. Terlikowski\"\n",
    "df['author'] = df[\"author\"].apply(lambda x: x.upper())\n"
   ]
  },
  {
   "cell_type": "code",
   "execution_count": null,
   "metadata": {},
   "outputs": [],
   "source": [
    "df.drop(columns=['error', 'error_count', 'author_len'], inplace=True)\n",
    "df.to_csv(\"dorzeczy_2017.csv\", index=False)"
   ]
  },
  {
   "cell_type": "markdown",
   "metadata": {},
   "source": [
    "# 2018"
   ]
  },
  {
   "cell_type": "code",
   "execution_count": null,
   "metadata": {},
   "outputs": [],
   "source": [
    "special_files = [\"dorzeczy_13_2018.pdf\", \"dorzeczy_8_2018.pdf\"]\n",
    "folder_name_2018 = \"DoRzeczy/DoRzeczy2018/\""
   ]
  },
  {
   "cell_type": "code",
   "execution_count": null,
   "metadata": {},
   "outputs": [],
   "source": [
    "df_2018, problem_files = rzepa_pipeline(folder_name_2018, special_files, 2018)"
   ]
  },
  {
   "cell_type": "code",
   "execution_count": null,
   "metadata": {},
   "outputs": [],
   "source": [
    "df_problem = pd.DataFrame(problem_files, columns=[\"filename\", \"problem\"])\n",
    "df = df_2018.copy()\n",
    "df_problem['problem'].value_counts()"
   ]
  },
  {
   "cell_type": "markdown",
   "metadata": {},
   "source": [
    "Not Chronological    4<br>\n",
    "Table of Contents    4<br>\n",
    "Few Found            1<br>\n",
    "Page number          1<br>"
   ]
  },
  {
   "cell_type": "code",
   "execution_count": null,
   "metadata": {},
   "outputs": [],
   "source": [
    "author_names = [\"JOANNA Bojańczyk\", \"ŁUKASZ Majchrzyk\", \"JACEK Przybylski\", \"MARCIN Makowski\",\n",
    "                   \"TOMASZ cukiernik\", \"WALDEMAR Żyszkiewicz\", \"KATARZYNA Pinkosz\"]\n",
    "\n",
    "df.loc[df[\"author\"]==\"TOMASZ P.\", 'author'] = \"TOMASZ P. Terlikowski\"\n",
    "df = author_correction(df, author_names)\n",
    "df['author'] = df[\"author\"].apply(lambda x: x.upper())"
   ]
  },
  {
   "cell_type": "code",
   "execution_count": null,
   "metadata": {},
   "outputs": [],
   "source": [
    "df.drop(columns=['error', 'error_count', 'author_len'], inplace=True)\n",
    "df.to_csv(\"dorzeczy_2018.csv\", index=False)"
   ]
  },
  {
   "cell_type": "markdown",
   "metadata": {},
   "source": [
    "# 2019"
   ]
  },
  {
   "cell_type": "code",
   "execution_count": null,
   "metadata": {},
   "outputs": [],
   "source": [
    "special_files = [\"dorzeczy_50_2019.pdf\", \"dorzeczy_49_2019.pdf\"]\n",
    "folder_name_2019 = \"DoRzeczy/DoRzeczy2019/\"\n",
    "df_2019, problem_files = rzepa_pipeline(folder_name_2019, special_files, 2019)"
   ]
  },
  {
   "cell_type": "code",
   "execution_count": null,
   "metadata": {},
   "outputs": [],
   "source": [
    "df_problem = pd.DataFrame(problem_files, columns=[\"filename\", \"problem\"])\n",
    "df = df_2019.copy()\n",
    "df_problem['problem'].value_counts()"
   ]
  },
  {
   "cell_type": "markdown",
   "metadata": {},
   "source": [
    "Table of Contents    10<br>\n",
    "Not Chronological     3<br>"
   ]
  },
  {
   "cell_type": "code",
   "execution_count": null,
   "metadata": {},
   "outputs": [],
   "source": [
    "author_names = [\"JOANNA Bojańczyk\", \"PIOTR Zychowicz\", \"WITOLD Reptowicz\", \"JACEK Przybylski\", \"RADOSŁAW Wojtas\", \"KATARZYNA Pinkosz\"]\n",
    "\n",
    "\n",
    "df = author_correction(df, author_names)\n",
    "df.loc[(df[\"author\"]==\"TOMASZ\") & (df['file'] == \"dorzeczy_20_2019.pdf\"), 'author'] = \"TOMASZ Rowiński\"\n",
    "df.loc[(df[\"author\"]==\"TOMASZ\") & (df['file'] == \"dorzeczy_30_2019.pdf\"), 'author'] = \"TOMASZ Kaźmierowski\"\n",
    "df.loc[(df[\"author\"]==\"TOMASZ\") & (df['file'] == \"dorzeczy_6_2019.pdf\"), 'author'] = \"TOMASZ Lenczewski\"\n",
    "df.loc[(df[\"author\"]==\"TOMASZ\") & (df['file'] == \"dorzeczy_19_2019.pdf\"), 'author'] = \"TOMASZ Cukiernik\"\n",
    "df['author'] = df[\"author\"].apply(lambda x: x.upper())"
   ]
  },
  {
   "cell_type": "code",
   "execution_count": null,
   "metadata": {},
   "outputs": [],
   "source": [
    "df.drop(columns=['error', 'error_count', 'author_len'], inplace=True)\n",
    "df.to_csv(\"dorzeczy_2019.csv\", index=False)"
   ]
  },
  {
   "cell_type": "markdown",
   "metadata": {},
   "source": [
    "# 2020"
   ]
  },
  {
   "cell_type": "code",
   "execution_count": null,
   "metadata": {},
   "outputs": [],
   "source": [
    "special_files = [\"dorzeczy_42_2020.pdf\", \"dorzeczy_13_2020.pdf\"]\n",
    "folder_name_2020 = \"DoRzeczy/DoRzeczy2020/\"\n",
    "df_2020, problem_files = rzepa_pipeline(folder_name_2020, special_files, 2020)"
   ]
  },
  {
   "cell_type": "code",
   "execution_count": null,
   "metadata": {},
   "outputs": [],
   "source": [
    "df_problem = pd.DataFrame(problem_files, columns=[\"filename\", \"problem\"])\n",
    "df = df_2020.copy()\n",
    "df_problem['problem'].value_counts()"
   ]
  },
  {
   "cell_type": "markdown",
   "metadata": {},
   "source": [
    "Table of Contents    15<br>\n",
    "Not Chronological     4<br>\n",
    "Few Found             1<br>"
   ]
  },
  {
   "cell_type": "code",
   "execution_count": null,
   "metadata": {},
   "outputs": [],
   "source": [
    "author_names = [\"JOANNA Bojańczyk\", \"WOJCIECH cejrowski\", \"KATARZYNA Pinkosz\", \"JERZY MIZIOŁEK\",\"ŁUKASZ MAJCHRZYK\", \"GRZEGORZ KONDRASIUK\", \"MARCIN MAKOWSKI\", \"TOMASZ Rowiński\"]\n",
    "\n",
    "\n",
    "df = author_correction(df, author_names)\n",
    "df['author'] = df[\"author\"].apply(lambda x: x.upper())"
   ]
  },
  {
   "cell_type": "code",
   "execution_count": null,
   "metadata": {},
   "outputs": [],
   "source": [
    "df.drop(columns=['error', 'error_count', 'author_len'], inplace=True)\n",
    "df.to_csv(\"dorzeczy_2020.csv\", index=False)"
   ]
  },
  {
   "cell_type": "markdown",
   "metadata": {},
   "source": [
    "# 2021"
   ]
  },
  {
   "cell_type": "code",
   "execution_count": null,
   "metadata": {},
   "outputs": [],
   "source": [
    "special_files = [\"dorzeczy_42_2020.pdf\", \"dorzeczy_49_2019.pdf\"]\n",
    "folder_name_2021 = \"DoRzeczy/DoRzeczy2021/\"\n",
    "df_2021, problem_files = rzepa_pipeline(folder_name_2021, special_files, 2021)"
   ]
  },
  {
   "cell_type": "code",
   "execution_count": null,
   "metadata": {},
   "outputs": [],
   "source": [
    "df_problem = pd.DataFrame(problem_files, columns=[\"filename\", \"problem\"])\n",
    "df = df_2021.copy()\n",
    "df_problem['problem'].value_counts()"
   ]
  },
  {
   "cell_type": "code",
   "execution_count": null,
   "metadata": {},
   "outputs": [],
   "source": [
    "author_names = [\"JOANNA Bojańczyk\", \"WOJCIECH cejrowski\", \"KATARZYNA Pinkosz\", \"JERZY MIZIOŁEK\",\n",
    "                   \"ŁUKASZ MAJCHRZYK\", \"GRZEGORZ KONDRASIUK\", \"MARCIN MAKOWSKI\", \"TOMASZ Rowiński\"]\n",
    "\n",
    "\n",
    "df = author_correction(df, author_names)\n",
    "df['author'] = df[\"author\"].apply(lambda x: x.upper())"
   ]
  },
  {
   "cell_type": "code",
   "execution_count": null,
   "metadata": {},
   "outputs": [],
   "source": [
    "df.drop(columns=['error', 'error_count', 'author_len'], inplace=True)\n",
    "df.to_csv(\"dorzeczy_2021.csv\", index=False)"
   ]
  },
  {
   "cell_type": "markdown",
   "metadata": {},
   "source": [
    "# 2022"
   ]
  },
  {
   "cell_type": "code",
   "execution_count": null,
   "metadata": {},
   "outputs": [],
   "source": [
    "special_files = [\"dorzeczy_4_2022.pdf\"]\n",
    "folder_name_2022 = \"DoRzeczy/DoRzeczy2022/\"\n",
    "df_2022, problem_files = rzepa_pipeline(folder_name_2022, special_files, 2022)"
   ]
  },
  {
   "cell_type": "code",
   "execution_count": null,
   "metadata": {},
   "outputs": [],
   "source": [
    "df_problem = pd.DataFrame(problem_files, columns=[\"filename\", \"problem\"])\n",
    "df = df_2022.copy()\n",
    "df_problem['problem'].value_counts()"
   ]
  },
  {
   "cell_type": "markdown",
   "metadata": {},
   "source": [
    "Table of Contents    19<br>\n",
    "Not Chronological     4<br>\n",
    "Page number           2<br>"
   ]
  },
  {
   "cell_type": "code",
   "execution_count": null,
   "metadata": {},
   "outputs": [],
   "source": [
    "author_names = [\"MACIEJ Pieczyński\", \"ŁUKASZ Zboralski\"]\n",
    "\n",
    "\n",
    "df = author_correction(df, author_names)\n",
    "df['author'] = df[\"author\"].apply(lambda x: x.upper())"
   ]
  },
  {
   "cell_type": "code",
   "execution_count": null,
   "metadata": {},
   "outputs": [],
   "source": [
    "df.drop(columns=['error', 'error_count', 'author_len'], inplace=True)\n",
    "df.to_csv(\"dorzeczy_2022.csv\", index=False)"
   ]
  },
  {
   "cell_type": "markdown",
   "metadata": {},
   "source": [
    "# 2023"
   ]
  },
  {
   "cell_type": "code",
   "execution_count": null,
   "metadata": {},
   "outputs": [],
   "source": [
    "special_files = []\n",
    "folder_name_2023 = \"DoRzeczy/DoRzeczy2023/\"\n",
    "df_2023, problem_files = rzepa_pipeline(folder_name_2023, special_files, 2023)"
   ]
  },
  {
   "cell_type": "code",
   "execution_count": null,
   "metadata": {},
   "outputs": [],
   "source": [
    "df_problem = pd.DataFrame(problem_files, columns=[\"filename\", \"problem\"])\n",
    "df = df_2023.copy()\n",
    "df_problem['problem'].value_counts()"
   ]
  },
  {
   "cell_type": "code",
   "execution_count": null,
   "metadata": {},
   "outputs": [],
   "source": [
    "author_names = []\n",
    "\n",
    "\n",
    "df = author_correction(df, author_names)\n",
    "df['author'] = df[\"author\"].apply(lambda x: x.upper())"
   ]
  },
  {
   "cell_type": "code",
   "execution_count": null,
   "metadata": {},
   "outputs": [],
   "source": [
    "df.drop(columns=['error', 'error_count', 'author_len'], inplace=True)\n",
    "df.to_csv(\"dorzeczy_2023.csv\", index=False)"
   ]
  },
  {
   "cell_type": "code",
   "execution_count": null,
   "metadata": {},
   "outputs": [],
   "source": []
  }
 ],
 "metadata": {
  "kernelspec": {
   "display_name": "usr",
   "language": "python",
   "name": "python3"
  },
  "language_info": {
   "codemirror_mode": {
    "name": "ipython",
    "version": 3
   },
   "file_extension": ".py",
   "mimetype": "text/x-python",
   "name": "python",
   "nbconvert_exporter": "python",
   "pygments_lexer": "ipython3",
   "version": "3.11.4"
  },
  "orig_nbformat": 4
 },
 "nbformat": 4,
 "nbformat_minor": 2
}
