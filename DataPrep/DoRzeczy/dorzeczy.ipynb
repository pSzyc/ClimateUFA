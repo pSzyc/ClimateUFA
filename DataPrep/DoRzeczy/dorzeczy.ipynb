{
 "cells": [
  {
   "cell_type": "code",
   "execution_count": 1,
   "metadata": {},
   "outputs": [],
   "source": [
    "import pandas as pd\n",
    "import re"
   ]
  },
  {
   "cell_type": "code",
   "execution_count": 2,
   "metadata": {},
   "outputs": [],
   "source": [
    "df = pd.read_csv(\"dorzeczy.csv\")"
   ]
  },
  {
   "cell_type": "code",
   "execution_count": null,
   "metadata": {},
   "outputs": [],
   "source": [
    "def preprocess(df, col):\n",
    "    df[col] = df[col].str.strip()\n",
    "    df[col] = df[col].apply(lambda x: re.sub(r\"fot\\..+ / \\d \\d \\d \\d\", \" \", x))\n",
    "    df[col] = df[col].apply(lambda x: re.sub(r\"(?i)w w w \\. d o r z e c z y \\. p l\", \" \", x))\n",
    "    df[col] = df[col].apply(lambda x: re.sub(r\"\\d \\d \\d \\d\", \" \", x))\n",
    "    df[col] = df[col].apply(lambda x: re.sub(r\"[–\\d [VIX]{6,}/\", \" \", x))\n",
    "    df[col] = df[col].apply(lambda x: re.sub(r\"\\s\\s+\", \" \", x))\n",
    "    df[col] = df[col].str.replace(\"\\xa0\", \" \")\n",
    "    df[col] = df[col].str.replace(\"\\xad\", \" \")\n",
    "    df[col] = df[col].str.replace(\"\\n\", \" \")\n",
    "    return df\n",
    "\n",
    "df = preprocess(df, \"title\")\n",
    "df = preprocess(df, \"text\")"
   ]
  },
  {
   "cell_type": "code",
   "execution_count": null,
   "metadata": {},
   "outputs": [],
   "source": [
    "df['file'] = df['file'].fillna(\"pdf\")"
   ]
  },
  {
   "cell_type": "code",
   "execution_count": null,
   "metadata": {},
   "outputs": [],
   "source": [
    "df.drop(columns=['clean_text','clean_title'],inplace=True)\n",
    "df.to_csv(\"dorzeczy_new.csv\")"
   ]
  }
 ],
 "metadata": {
  "kernelspec": {
   "display_name": "Python 3",
   "language": "python",
   "name": "python3"
  },
  "language_info": {
   "codemirror_mode": {
    "name": "ipython",
    "version": 3
   },
   "file_extension": ".py",
   "mimetype": "text/x-python",
   "name": "python",
   "nbconvert_exporter": "python",
   "pygments_lexer": "ipython3",
   "version": "3.11.4"
  },
  "orig_nbformat": 4
 },
 "nbformat": 4,
 "nbformat_minor": 2
}
